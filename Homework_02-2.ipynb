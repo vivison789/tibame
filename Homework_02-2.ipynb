{
 "cells": [
  {
   "cell_type": "code",
   "execution_count": 6,
   "id": "91256f75-b77e-431c-9b5c-fd8af242c158",
   "metadata": {},
   "outputs": [
    {
     "name": "stdin",
     "output_type": "stream",
     "text": [
      "水果名: 南瓜\n"
     ]
    },
    {
     "name": "stdout",
     "output_type": "stream",
     "text": [
      "[FT1 南瓜 木瓜形 ]18.6,3248\n",
      "[FT2 南瓜 圓形 ]17.6,1771\n",
      "[FT3 南瓜 黃如意 ]74.7,90\n",
      "[FT5 南瓜 青如意 ]60.4,975\n",
      "[FT7 南瓜 粟子 ]94.8,50\n",
      "[FT9 南瓜 進口 ]32.6,1496\n",
      "南瓜 資料總共: 6 個\n",
      "南瓜 的平均價格： 49.67\n",
      "南瓜 的總交易量： 298.70\n"
     ]
    }
   ],
   "source": [
    "with open(\"C:/Users/vivis/OneDrive/桌面/VER_03/資料集/1091101台北二_蔬果.txt\",\"r\",encoding=\"utf-8\") as f:\n",
    "    data_list = f.readlines()\n",
    "\n",
    "def analyze(fruit):\n",
    "    data = fruit.replace(\"[\",\"\").replace(\" \",\",\").replace(\"]\",\"\").split(\",\") # ['FA1', '黃秋葵', '', '46.8', '1462']\n",
    "\n",
    "    tag = data[0] # FAI\n",
    "    name = data[1] # 絲瓜\n",
    "    tip = data[2] # 其他\n",
    "    price = data[3] # 平均價：46.8\n",
    "    volume = data[4] # 成交量：1462\n",
    "\n",
    "    return tag, name, tip, price, volume\n",
    "\n",
    "a_price = 0\n",
    "a_count = 0\n",
    "\n",
    "fruit_name = input(\"水果名:\",)\n",
    "\n",
    "for data in data_list[1:]: #利用迴圈 將資料一個一個列出來\n",
    "    data_cleaned = data.replace(\"\\n\",\"\")#利用replace 功能 刪除換行符號 (\\n)\\\n",
    "    tag, name, tip, price, volume = analyze(data_cleaned)\n",
    "\n",
    "    if fruit_name == analyze(data_cleaned)[1]:\n",
    "        a_price = float(a_price) + float(price)\n",
    "        a_count += 1\n",
    "        print(data_cleaned)\n",
    "\n",
    "if a_count > 0:\n",
    "    average_price = int(a_price) / int(a_count)\n",
    "    average_volume = a_price\n",
    "    print(f\"{fruit_name} 資料總共:\", a_count, \"個\")\n",
    "    print(f\"{fruit_name} 的平均價格： {average_price:.2f}\")\n",
    "    print(f\"{fruit_name} 的總交易量： {average_volume:.2f}\")\n",
    "else:\n",
    "    print(f\"項目中無{fruit_name}\")"
   ]
  },
  {
   "cell_type": "code",
   "execution_count": null,
   "id": "6d80db3c-ea3e-4950-8352-1debb9d8f053",
   "metadata": {},
   "outputs": [],
   "source": []
  }
 ],
 "metadata": {
  "kernelspec": {
   "display_name": "Python 3 (ipykernel)",
   "language": "python",
   "name": "python3"
  },
  "language_info": {
   "codemirror_mode": {
    "name": "ipython",
    "version": 3
   },
   "file_extension": ".py",
   "mimetype": "text/x-python",
   "name": "python",
   "nbconvert_exporter": "python",
   "pygments_lexer": "ipython3",
   "version": "3.11.5"
  }
 },
 "nbformat": 4,
 "nbformat_minor": 5
}

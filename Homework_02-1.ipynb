{
 "cells": [
  {
   "cell_type": "code",
   "execution_count": 1,
   "id": "5aedbe94-6390-4de3-9a03-8e972460b1aa",
   "metadata": {
    "scrolled": true
   },
   "outputs": [
    {
     "name": "stdout",
     "output_type": "stream",
     "text": [
      "苦瓜資料總共: 4 個\n",
      "苦瓜的平均價格： 51\n",
      "南瓜資料總共: 6 個\n",
      "南瓜的總交易量： 7630\n",
      "項目中無栗子\n"
     ]
    }
   ],
   "source": [
    "with open(\"C:/Users/vivis/OneDrive/桌面/VER_03/資料集/1091101台北二_蔬果.txt\",\"r\",encoding=\"utf-8\") as f:\n",
    "    data_list = f.readlines()\n",
    "# print(data_list[1:])\n",
    "\n",
    "def analyze(fruit):\n",
    "    data = fruit.replace(\"[\",\"\").replace(\" \",\",\").replace(\"]\",\"\").split(\",\") # ['FA1', '黃秋葵', '', '46.8', '1462']\n",
    "\n",
    "    tag = data[0] # FAI\n",
    "    name = data[1] # 絲瓜\n",
    "    tip = data[2] # 其他\n",
    "    price = data[3] # 平均價：46.8\n",
    "    volume = data[4] # 成交量：1462\n",
    "\n",
    "    return tag, name, tip, price, volume\n",
    "\n",
    "a_price = 0\n",
    "a_count = 0\n",
    "\n",
    "b_volume = 0\n",
    "b_count = 0\n",
    "\n",
    "c_volume = 0\n",
    "c_count = 0\n",
    "\n",
    "for data in data_list[1:]: #利用迴圈 將資料一個一個列出來\n",
    "    data_cleaned = data.replace(\"\\n\",\"\")#利用replace 功能 刪除換行符號 (\\n)\\\n",
    "    tag, name, tip, price, volume = analyze(data_cleaned)\n",
    "    # print(name)\n",
    "    # print(price)\n",
    "    if name == \"苦瓜\":\n",
    "        # print(data_cleaned)\n",
    "        a_price = a_price + float(price)\n",
    "        a_count += 1\n",
    "    if name == \"南瓜\":\n",
    "        b_volume = b_volume + int(volume)\n",
    "        b_count +=1\n",
    "    if name == \"栗子\":\n",
    "        c_volume = c_volume + float(volume)\n",
    "        c_count +=1\n",
    "\n",
    "if a_count > 0:\n",
    "    average_price = int(a_price) / int(a_count)\n",
    "    print(\"苦瓜資料總共:\", a_count, \"個\")\n",
    "    print(\"苦瓜的平均價格：\", int(average_price))\n",
    "\n",
    "if b_count > 0:\n",
    "    average_volume = int(b_volume)\n",
    "    print(\"南瓜資料總共:\", b_count, \"個\")\n",
    "    print(\"南瓜的總交易量：\", int(average_volume))\n",
    "\n",
    "if c_count > 0:\n",
    "    average_volume = int(c_volume)\n",
    "    print(\"栗子資料總共:\", b_count, \"個\")\n",
    "    print(\"栗子的總交易量：\", int(average_volume))\n",
    "else:\n",
    "    print(\"項目中無栗子\")"
   ]
  },
  {
   "cell_type": "code",
   "execution_count": 2,
   "id": "36cfe83a-ea15-46ef-810f-d34d81058e9c",
   "metadata": {},
   "outputs": [
    {
     "name": "stdout",
     "output_type": "stream",
     "text": [
      "FF2 瓜角瓜 角瓜 41.6 64\n",
      "['FF2', '絲瓜', '角瓜', '41.6', '64']\n"
     ]
    }
   ],
   "source": [
    "s = \"[FF2 絲瓜 角瓜 ]41.6,64\"\n",
    "s_clean = s.replace(\" \",\"\") # [FA1黃秋葵]46.8,1462\n",
    "# print(s_clean)\n",
    "\n",
    "# 標籤\n",
    "ws1 = s_clean.split(\"]\") \n",
    "tag = ws1[0][:4].replace(\"[\",\"\") # FA1\n",
    "tip = ws1[0][6:10] # 山苦瓜\n",
    "name = ws1[0][-3:].replace(\"[\",\"\") # 黃秋葵\n",
    "#均價\n",
    "ws2 = ws1[1].split(\",\") # ['46.8', '1462']\n",
    "price = ws2[0] # 平均價：46.8\n",
    "volume = ws2[1] # 成交量：1462\n",
    "\n",
    "print(tag, name, tip, price, volume)\n",
    "\n",
    "# 另外一種方式\n",
    "data = s.replace(\"[\",\"\").replace(\" \",\",\").replace(\"]\",\"\").split(\",\") # ['FA1', '黃秋葵', '', '46.8', '1462']\n",
    "# data.pop(2) \n",
    "print(data) # ['FA1', '黃秋葵', '46.8', '1462']\n"
   ]
  },
  {
   "cell_type": "code",
   "execution_count": 3,
   "id": "368a771f-3731-4bee-93fb-99b14424914a",
   "metadata": {},
   "outputs": [
    {
     "data": {
      "text/plain": [
       "('FA1', '黃秋葵', '', '46.8', '1462')"
      ]
     },
     "execution_count": 3,
     "metadata": {},
     "output_type": "execute_result"
    }
   ],
   "source": [
    "analyze(\"[FA1 黃秋葵  ]46.8,1462\")"
   ]
  },
  {
   "cell_type": "code",
   "execution_count": null,
   "id": "4042a916-ae4a-4f28-ae46-8119014d93ac",
   "metadata": {},
   "outputs": [],
   "source": []
  }
 ],
 "metadata": {
  "kernelspec": {
   "display_name": "Python 3 (ipykernel)",
   "language": "python",
   "name": "python3"
  },
  "language_info": {
   "codemirror_mode": {
    "name": "ipython",
    "version": 3
   },
   "file_extension": ".py",
   "mimetype": "text/x-python",
   "name": "python",
   "nbconvert_exporter": "python",
   "pygments_lexer": "ipython3",
   "version": "3.11.5"
  }
 },
 "nbformat": 4,
 "nbformat_minor": 5
}
